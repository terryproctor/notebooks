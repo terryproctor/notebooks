{
 "cells": [
  {
   "cell_type": "code",
   "execution_count": 1,
   "id": "c5dc1485",
   "metadata": {},
   "outputs": [],
   "source": [
    "import math\n",
    "import os\n",
    "import random\n",
    "import re\n",
    "import sys"
   ]
  },
  {
   "cell_type": "code",
   "execution_count": 2,
   "id": "0becf9ad",
   "metadata": {},
   "outputs": [],
   "source": [
    "# def repeatedString(s, n):\n",
    "#     new_string = \"\"\n",
    "#     while len(new_string) < n:\n",
    "#         for letter in s:\n",
    "#             if len(new_string) < n:\n",
    "#                 new_string += letter\n",
    "#     print(new_string)\n",
    "#     return new_string.count(\"a\")"
   ]
  },
  {
   "cell_type": "code",
   "execution_count": 3,
   "id": "3058c9b8",
   "metadata": {},
   "outputs": [],
   "source": [
    "# def repeatedString(s, n):\n",
    "#     m = n // len(s)\n",
    "#     new_string = s * m\n",
    "#     r = n - len(new_string)\n",
    "#     new_string += s[:r]\n",
    "#     return new_string.count(\"a\")"
   ]
  },
  {
   "cell_type": "code",
   "execution_count": 4,
   "id": "cdda990b",
   "metadata": {},
   "outputs": [],
   "source": [
    "def repeatedString(s, n):\n",
    "    #a's in one substring\n",
    "    a = s.count(\"a\")\n",
    "    #how many full susbstrings can be made\n",
    "    multi = n // len(s)\n",
    "    total = multi * (len(s))\n",
    "    r = n - total\n",
    "    ra = s[:r].count(\"a\")\n",
    "    a = (a * multi) + ra \n",
    "    return a"
   ]
  },
  {
   "cell_type": "code",
   "execution_count": 5,
   "id": "198597e1",
   "metadata": {},
   "outputs": [
    {
     "data": {
      "text/plain": [
       "7"
      ]
     },
     "execution_count": 5,
     "metadata": {},
     "output_type": "execute_result"
    }
   ],
   "source": [
    "repeatedString('aba', 10)"
   ]
  },
  {
   "cell_type": "code",
   "execution_count": 6,
   "id": "0718da42",
   "metadata": {},
   "outputs": [
    {
     "data": {
      "text/plain": [
       "1000000000000"
      ]
     },
     "execution_count": 6,
     "metadata": {},
     "output_type": "execute_result"
    }
   ],
   "source": [
    "repeatedString('a', 1000000000000)"
   ]
  },
  {
   "cell_type": "code",
   "execution_count": null,
   "id": "b34887d2",
   "metadata": {},
   "outputs": [],
   "source": []
  },
  {
   "cell_type": "code",
   "execution_count": null,
   "id": "b86522f1",
   "metadata": {},
   "outputs": [],
   "source": []
  }
 ],
 "metadata": {
  "kernelspec": {
   "display_name": "Python 3",
   "language": "python",
   "name": "python3"
  },
  "language_info": {
   "codemirror_mode": {
    "name": "ipython",
    "version": 3
   },
   "file_extension": ".py",
   "mimetype": "text/x-python",
   "name": "python",
   "nbconvert_exporter": "python",
   "pygments_lexer": "ipython3",
   "version": "3.8.8"
  }
 },
 "nbformat": 4,
 "nbformat_minor": 5
}

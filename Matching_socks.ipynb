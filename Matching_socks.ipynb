{
 "cells": [
  {
   "cell_type": "code",
   "execution_count": 1,
   "id": "6f6edf1a",
   "metadata": {},
   "outputs": [],
   "source": [
    "import math\n",
    "import os\n",
    "import random\n",
    "import re\n",
    "import sys"
   ]
  },
  {
   "cell_type": "code",
   "execution_count": 2,
   "id": "f0ce8d3f",
   "metadata": {},
   "outputs": [],
   "source": [
    "def sock_match(n, ar):\n",
    "    pairs = 0\n",
    "    ar.sort()\n",
    "    while len(ar) > 1:\n",
    "            if ar[0] == ar[1]:\n",
    "                pairs += 1\n",
    "                ar.remove(ar[1])\n",
    "                ar.remove(ar[0])\n",
    "            else:\n",
    "                ar.remove(ar[0])\n",
    "    return pairs\n",
    "            "
   ]
  },
  {
   "cell_type": "code",
   "execution_count": 3,
   "id": "5b9697b8",
   "metadata": {},
   "outputs": [
    {
     "data": {
      "text/plain": [
       "3"
      ]
     },
     "execution_count": 3,
     "metadata": {},
     "output_type": "execute_result"
    }
   ],
   "source": [
    "sock_match(9, [10, 20, 20, 10, 10, 30, 50, 10, 20])"
   ]
  }
 ],
 "metadata": {
  "kernelspec": {
   "display_name": "Python 3",
   "language": "python",
   "name": "python3"
  },
  "language_info": {
   "codemirror_mode": {
    "name": "ipython",
    "version": 3
   },
   "file_extension": ".py",
   "mimetype": "text/x-python",
   "name": "python",
   "nbconvert_exporter": "python",
   "pygments_lexer": "ipython3",
   "version": "3.8.8"
  }
 },
 "nbformat": 4,
 "nbformat_minor": 5
}

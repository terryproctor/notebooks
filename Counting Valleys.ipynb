{
 "cells": [
  {
   "cell_type": "code",
   "execution_count": 1,
   "id": "e099bd64",
   "metadata": {},
   "outputs": [],
   "source": [
    "import math\n",
    "import os\n",
    "import random\n",
    "import re\n",
    "import sys\n"
   ]
  },
  {
   "cell_type": "code",
   "execution_count": 10,
   "id": "6017258a",
   "metadata": {},
   "outputs": [],
   "source": [
    "def countingValleys(steps, path):\n",
    "    level = 0\n",
    "    path = list(path)\n",
    "    levels = [0]\n",
    "    #convert directions to levels list\n",
    "    for direction in path:\n",
    "        if direction == 'U':\n",
    "            level += 1\n",
    "        elif direction == 'D':\n",
    "            level -= 1\n",
    "        levels.append(level)\n",
    "    print(levels)\n",
    "    #check valleys\n",
    "    #remove positives\n",
    "    levels = [x for x in levels if x < 1]\n",
    "    print(levels)\n",
    "    valleys = 0\n",
    "    while len(levels) > 1:\n",
    "        if levels[0] == -1 and levels[1] == 0:\n",
    "            valleys += 1\n",
    "        levels.remove(levels[0])\n",
    "    return valleys\n",
    "        \n",
    "    \n",
    "#     zeros = levels.count(0)\n",
    "#     valleys = zeros / 2\n",
    "#     return int(valleys)"
   ]
  },
  {
   "cell_type": "code",
   "execution_count": 11,
   "id": "ea8c6312",
   "metadata": {},
   "outputs": [
    {
     "name": "stdout",
     "output_type": "stream",
     "text": [
      "[0, 1, 0, -1, -2, -1, -2, -1, 0]\n",
      "[0, 0, -1, -2, -1, -2, -1, 0]\n"
     ]
    },
    {
     "data": {
      "text/plain": [
       "1"
      ]
     },
     "execution_count": 11,
     "metadata": {},
     "output_type": "execute_result"
    }
   ],
   "source": [
    "countingValleys(8, 'UDDDUDUU')"
   ]
  },
  {
   "cell_type": "code",
   "execution_count": 12,
   "id": "9ce1f225",
   "metadata": {},
   "outputs": [
    {
     "name": "stdout",
     "output_type": "stream",
     "text": [
      "[0, -1, -2, -1, 0, -1, -2, -1, -2, -1, 0, 1, 0]\n",
      "[0, -1, -2, -1, 0, -1, -2, -1, -2, -1, 0, 0]\n"
     ]
    },
    {
     "data": {
      "text/plain": [
       "2"
      ]
     },
     "execution_count": 12,
     "metadata": {},
     "output_type": "execute_result"
    }
   ],
   "source": [
    "countingValleys(12, 'DDUUDDUDUUUD')"
   ]
  },
  {
   "cell_type": "code",
   "execution_count": 13,
   "id": "cd7823b0",
   "metadata": {},
   "outputs": [
    {
     "name": "stdout",
     "output_type": "stream",
     "text": [
      "[0, 1, 0, 1, 2, 3, 2, 3, 2, 1, 0]\n",
      "[0, 0, 0]\n"
     ]
    },
    {
     "data": {
      "text/plain": [
       "0"
      ]
     },
     "execution_count": 13,
     "metadata": {},
     "output_type": "execute_result"
    }
   ],
   "source": [
    "countingValleys(10, 'UDUUUDUDDD')"
   ]
  },
  {
   "cell_type": "code",
   "execution_count": null,
   "id": "ce0bfcc2",
   "metadata": {},
   "outputs": [],
   "source": []
  }
 ],
 "metadata": {
  "kernelspec": {
   "display_name": "Python 3",
   "language": "python",
   "name": "python3"
  },
  "language_info": {
   "codemirror_mode": {
    "name": "ipython",
    "version": 3
   },
   "file_extension": ".py",
   "mimetype": "text/x-python",
   "name": "python",
   "nbconvert_exporter": "python",
   "pygments_lexer": "ipython3",
   "version": "3.8.8"
  }
 },
 "nbformat": 4,
 "nbformat_minor": 5
}
